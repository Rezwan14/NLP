{
  "nbformat": 4,
  "nbformat_minor": 0,
  "metadata": {
    "colab": {
      "provenance": []
    },
    "kernelspec": {
      "name": "python3",
      "display_name": "Python 3"
    },
    "language_info": {
      "name": "python"
    }
  },
  "cells": [
    {
      "cell_type": "code",
      "execution_count": 23,
      "metadata": {
        "id": "Z2crmXfkHvj-",
        "colab": {
          "base_uri": "https://localhost:8080/"
        },
        "outputId": "3ca72500-6cc6-46bb-e45b-c45bb35f7c3d"
      },
      "outputs": [
        {
          "output_type": "stream",
          "name": "stderr",
          "text": [
            "[nltk_data] Downloading package omw-1.4 to /root/nltk_data...\n",
            "[nltk_data]   Package omw-1.4 is already up-to-date!\n",
            "[nltk_data] Downloading package wordnet to /root/nltk_data...\n",
            "[nltk_data]   Package wordnet is already up-to-date!\n"
          ]
        }
      ],
      "source": [
        "import nltk\n",
        "nltk.download('omw-1.4')\n",
        "nltk.download(\"wordnet\")\n",
        "import urllib.request\n",
        "from nltk.corpus import wordnet\n",
        "from gensim.models.word2vec import Word2Vec\n",
        "import gensim.downloader as api"
      ]
    },
    {
      "cell_type": "code",
      "source": [
        "# load the data\n",
        "wordsim_url = \"http://www.cs.columbia.edu/~sarahita/CL/wordsim-353.txt\"\n",
        "\n",
        "# read url .txt file into string \"data\"\n",
        "def get_data(url):\n",
        "  data = urllib.request.urlopen(url).read().decode('utf-8')\n",
        "  return data\n",
        "\n",
        "wordsim_data = get_data(wordsim_url)"
      ],
      "metadata": {
        "id": "xMgtuMxNKoHu"
      },
      "execution_count": 24,
      "outputs": []
    },
    {
      "cell_type": "code",
      "source": [
        "wordsim_data"
      ],
      "metadata": {
        "colab": {
          "base_uri": "https://localhost:8080/",
          "height": 143
        },
        "id": "QsBDd546KumN",
        "outputId": "7e6711ad-d9ca-47e5-b8f2-ba598e1e980f"
      },
      "execution_count": 25,
      "outputs": [
        {
          "output_type": "execute_result",
          "data": {
            "text/plain": [
              "'tiger\\tcat\\t7.35\\ntiger\\ttiger\\t10.00\\nplane\\tcar\\t5.77\\ntrain\\tcar\\t6.31\\ntelevision\\tradio\\t6.77\\nmedia\\tradio\\t7.42\\nbread\\tbutter\\t6.19\\ncucumber\\tpotato\\t5.92\\ndoctor\\tnurse\\t7.00\\nprofessor\\tdoctor\\t6.62\\nstudent\\tprofessor\\t6.81\\nsmart\\tstupid\\t5.81\\nwood\\tforest\\t7.73\\nmoney\\tcash\\t9.15\\nking\\tqueen\\t8.58\\nking\\trook\\t5.92\\nbishop\\trabbi\\t6.69\\nfuck\\tsex\\t9.44\\nfootball\\tsoccer\\t9.03\\nfootball\\tbasketball\\t6.81\\nfootball\\ttennis\\t6.63\\nArafat\\tJackson\\t2.50\\nphysics\\tchemistry\\t7.35\\nvodka\\tgin\\t8.46\\nvodka\\tbrandy\\t8.13\\ndrink\\teat\\t6.87\\ncar\\tautomobile\\t8.94\\ngem\\tjewel\\t8.96\\njourney\\tvoyage\\t9.29\\nboy\\tlad\\t8.83\\ncoast\\tshore\\t9.10\\nasylum\\tmadhouse\\t8.87\\nmagician\\twizard\\t9.02\\nmidday\\tnoon\\t9.29\\nfurnace\\tstove\\t8.79\\nfood\\tfruit\\t7.52\\nbird\\tcock\\t7.10\\nbird\\tcrane\\t7.38\\nfood\\trooster\\t4.42\\nmoney\\tdollar\\t8.42\\nmoney\\tcurrency\\t9.04\\ntiger\\tjaguar\\t8.00\\ntiger\\tfeline\\t8.00\\ntiger\\tcarnivore\\t7.08\\ntiger\\tmammal\\t6.85\\ntiger\\tanimal\\t7.00\\ntiger\\torganism\\t4.77\\ntiger\\tfauna\\t5.62\\npsychology\\tpsychiatry\\t8.08\\npsychology\\tscience\\t6.71\\npsychology\\tdiscipline\\t5.58\\nplanet\\tstar\\t8.45\\nplanet\\tmoon\\t8.08\\nplanet\\tsun\\t8.02\\nprecedent\\texample\\t5.85\\nprecedent\\tantecedent\\t6.04\\ncup\\ttableware\\t6.85\\ncup\\tartifact\\t2.92\\ncup\\tobject\\t3.69\\ncup\\tentity\\t2.15\\njaguar\\tcat\\t7.42\\njaguar\\tcar\\t7.27\\nmile\\tkilometer\\t8.66\\nskin\\teye\\t6.22\\nJapanese\\tAmerican\\t6.50\\ncentury\\tyear\\t7.59\\nannouncement\\tnews\\t7.56\\ndoctor\\tpersonnel\\t5.00\\nHarvard\\tYale\\t8.13\\nhospital\\tinfrastructure\\t4.63\\nlife\\tdeath\\t7.88\\ntravel\\tactivity\\t5.00\\ntype\\tkind\\t8.97\\nstreet\\tplace\\t6.44\\nstreet\\tavenue\\t8.88\\nstreet\\tblock\\t6.88\\ncell\\tphone\\t7.81\\ndividend\\tpayment\\t7.63\\ncalculation\\tcomputation\\t8.44\\nprofit\\tloss\\t7.63\\ndollar\\tyen\\t7.78\\ndollar\\tbuck\\t9.22\\nphone\\tequipment\\t7.13\\nliquid\\twater\\t7.89\\nmarathon\\tsprint\\t7.47\\nseafood\\tfood\\t8.34\\nseafood\\tlobster\\t8.70\\nlobster\\tfood\\t7.81\\nlobster\\twine\\t5.70\\nchampionship\\ttournament\\t8.36\\nman\\twoman\\t8.30\\nman\\tgovernor\\t5.25\\nmurder\\tmanslaughter\\t8.53\\nopera\\tperformance\\t6.88\\nMexico\\tBrazil\\t7.44\\nglass\\tmetal\\t5.56\\naluminum\\tmetal\\t7.83\\nrock\\tjazz\\t7.59\\nmuseum\\ttheater\\t7.19\\nshower\\tthunderstorm\\t6.31\\nmonk\\toracle\\t5.00\\ncup\\tfood\\t5.00\\njournal\\tassociation\\t4.97\\nstreet\\tchildren\\t4.94\\ncar\\tflight\\t4.94\\nspace\\tchemistry\\t4.88\\nsituation\\tconclusion\\t4.81\\nword\\tsimilarity\\t4.75\\npeace\\tplan\\t4.75\\nconsumer\\tenergy\\t4.75\\nministry\\tculture\\t4.69\\nsmart\\tstudent\\t4.62\\ninvestigation\\teffort\\t4.59\\nimage\\tsurface\\t4.56\\nlife\\tterm\\t4.50\\nstart\\tmatch\\t4.47\\ncomputer\\tnews\\t4.47\\nboard\\trecommendation\\t4.47\\nlad\\tbrother\\t4.46\\nobservation\\tarchitecture\\t4.38\\ncoast\\thill\\t4.38\\ndeployment\\tdeparture\\t4.25\\nbenchmark\\tindex\\t4.25\\nattempt\\tpeace\\t4.25\\nconsumer\\tconfidence\\t4.13\\nstart\\tyear\\t4.06\\nfocus\\tlife\\t4.06\\ndevelopment\\tissue\\t3.97\\ntheater\\thistory\\t3.91\\nsituation\\tisolation\\t3.88\\nprofit\\twarning\\t3.88\\nmedia\\ttrading\\t3.88\\nchance\\tcredibility\\t3.88\\nprecedent\\tinformation\\t3.85\\narchitecture\\tcentury\\t3.78\\npopulation\\tdevelopment\\t3.75\\nstock\\tlive\\t3.73\\npeace\\tatmosphere\\t3.69\\nmorality\\tmarriage\\t3.69\\nminority\\tpeace\\t3.69\\natmosphere\\tlandscape\\t3.69\\nreport\\tgain\\t3.63\\nmusic\\tproject\\t3.63\\nseven\\tseries\\t3.56\\nexperience\\tmusic\\t3.47\\nschool\\tcenter\\t3.44\\nfive\\tmonth\\t3.38\\nannouncement\\tproduction\\t3.38\\nmorality\\timportance\\t3.31\\nmoney\\toperation\\t3.31\\ndelay\\tnews\\t3.31\\ngovernor\\tinterview\\t3.25\\npractice\\tinstitution\\t3.19\\ncentury\\tnation\\t3.16\\ncoast\\tforest\\t3.15\\nshore\\twoodland\\t3.08\\ndrink\\tcar\\t3.04\\npresident\\tmedal\\t3.00\\nprejudice\\trecognition\\t3.00\\nviewer\\tserial\\t2.97\\npeace\\tinsurance\\t2.94\\nMars\\twater\\t2.94\\nmedia\\tgain\\t2.88\\nprecedent\\tcognition\\t2.81\\nannouncement\\teffort\\t2.75\\nline\\tinsurance\\t2.69\\ncrane\\timplement\\t2.69\\ndrink\\tmother\\t2.65\\nopera\\tindustry\\t2.63\\nvolunteer\\tmotto\\t2.56\\nlisting\\tproximity\\t2.56\\nprecedent\\tcollection\\t2.50\\ncup\\tarticle\\t2.40\\nsign\\trecess\\t2.38\\nproblem\\tairport\\t2.38\\nreason\\thypertension\\t2.31\\ndirection\\tcombination\\t2.25\\nWednesday\\tnews\\t2.22\\nglass\\tmagician\\t2.08\\ncemetery\\twoodland\\t2.08\\npossibility\\tgirl\\t1.94\\ncup\\tsubstance\\t1.92\\nforest\\tgraveyard\\t1.85\\nstock\\tegg\\t1.81\\nmonth\\thotel\\t1.81\\nenergy\\tsecretary\\t1.81\\nprecedent\\tgroup\\t1.77\\nproduction\\thike\\t1.75\\nstock\\tphone\\t1.62\\nholy\\tsex\\t1.62\\nstock\\tCD\\t1.31\\ndrink\\tear\\t1.31\\ndelay\\tracism\\t1.19\\nstock\\tlife\\t0.92\\nstock\\tjaguar\\t0.92\\nmonk\\tslave\\t0.92\\nlad\\twizard\\t0.92\\nsugar\\tapproach\\t0.88\\nrooster\\tvoyage\\t0.62\\nnoon\\tstring\\t0.54\\nchord\\tsmile\\t0.54\\nprofessor\\tcucumber\\t0.31\\nking\\tcabbage\\t0.23\\n'"
            ],
            "application/vnd.google.colaboratory.intrinsic+json": {
              "type": "string"
            }
          },
          "metadata": {},
          "execution_count": 25
        }
      ]
    },
    {
      "cell_type": "code",
      "source": [
        "wordsim_parsed = [line.split('\\t') for line in wordsim_data.splitlines()]"
      ],
      "metadata": {
        "id": "Tbmyz39OKzdF"
      },
      "execution_count": 26,
      "outputs": []
    },
    {
      "cell_type": "code",
      "source": [
        "for [word1,word2,sim] in wordsim_parsed:\n",
        "  print(word1, word2, sim)"
      ],
      "metadata": {
        "colab": {
          "base_uri": "https://localhost:8080/"
        },
        "id": "4cMolGUBLD_q",
        "outputId": "13f912df-8f23-469f-bff2-6499bdc951c7"
      },
      "execution_count": 27,
      "outputs": [
        {
          "output_type": "stream",
          "name": "stdout",
          "text": [
            "tiger cat 7.35\n",
            "tiger tiger 10.00\n",
            "plane car 5.77\n",
            "train car 6.31\n",
            "television radio 6.77\n",
            "media radio 7.42\n",
            "bread butter 6.19\n",
            "cucumber potato 5.92\n",
            "doctor nurse 7.00\n",
            "professor doctor 6.62\n",
            "student professor 6.81\n",
            "smart stupid 5.81\n",
            "wood forest 7.73\n",
            "money cash 9.15\n",
            "king queen 8.58\n",
            "king rook 5.92\n",
            "bishop rabbi 6.69\n",
            "fuck sex 9.44\n",
            "football soccer 9.03\n",
            "football basketball 6.81\n",
            "football tennis 6.63\n",
            "Arafat Jackson 2.50\n",
            "physics chemistry 7.35\n",
            "vodka gin 8.46\n",
            "vodka brandy 8.13\n",
            "drink eat 6.87\n",
            "car automobile 8.94\n",
            "gem jewel 8.96\n",
            "journey voyage 9.29\n",
            "boy lad 8.83\n",
            "coast shore 9.10\n",
            "asylum madhouse 8.87\n",
            "magician wizard 9.02\n",
            "midday noon 9.29\n",
            "furnace stove 8.79\n",
            "food fruit 7.52\n",
            "bird cock 7.10\n",
            "bird crane 7.38\n",
            "food rooster 4.42\n",
            "money dollar 8.42\n",
            "money currency 9.04\n",
            "tiger jaguar 8.00\n",
            "tiger feline 8.00\n",
            "tiger carnivore 7.08\n",
            "tiger mammal 6.85\n",
            "tiger animal 7.00\n",
            "tiger organism 4.77\n",
            "tiger fauna 5.62\n",
            "psychology psychiatry 8.08\n",
            "psychology science 6.71\n",
            "psychology discipline 5.58\n",
            "planet star 8.45\n",
            "planet moon 8.08\n",
            "planet sun 8.02\n",
            "precedent example 5.85\n",
            "precedent antecedent 6.04\n",
            "cup tableware 6.85\n",
            "cup artifact 2.92\n",
            "cup object 3.69\n",
            "cup entity 2.15\n",
            "jaguar cat 7.42\n",
            "jaguar car 7.27\n",
            "mile kilometer 8.66\n",
            "skin eye 6.22\n",
            "Japanese American 6.50\n",
            "century year 7.59\n",
            "announcement news 7.56\n",
            "doctor personnel 5.00\n",
            "Harvard Yale 8.13\n",
            "hospital infrastructure 4.63\n",
            "life death 7.88\n",
            "travel activity 5.00\n",
            "type kind 8.97\n",
            "street place 6.44\n",
            "street avenue 8.88\n",
            "street block 6.88\n",
            "cell phone 7.81\n",
            "dividend payment 7.63\n",
            "calculation computation 8.44\n",
            "profit loss 7.63\n",
            "dollar yen 7.78\n",
            "dollar buck 9.22\n",
            "phone equipment 7.13\n",
            "liquid water 7.89\n",
            "marathon sprint 7.47\n",
            "seafood food 8.34\n",
            "seafood lobster 8.70\n",
            "lobster food 7.81\n",
            "lobster wine 5.70\n",
            "championship tournament 8.36\n",
            "man woman 8.30\n",
            "man governor 5.25\n",
            "murder manslaughter 8.53\n",
            "opera performance 6.88\n",
            "Mexico Brazil 7.44\n",
            "glass metal 5.56\n",
            "aluminum metal 7.83\n",
            "rock jazz 7.59\n",
            "museum theater 7.19\n",
            "shower thunderstorm 6.31\n",
            "monk oracle 5.00\n",
            "cup food 5.00\n",
            "journal association 4.97\n",
            "street children 4.94\n",
            "car flight 4.94\n",
            "space chemistry 4.88\n",
            "situation conclusion 4.81\n",
            "word similarity 4.75\n",
            "peace plan 4.75\n",
            "consumer energy 4.75\n",
            "ministry culture 4.69\n",
            "smart student 4.62\n",
            "investigation effort 4.59\n",
            "image surface 4.56\n",
            "life term 4.50\n",
            "start match 4.47\n",
            "computer news 4.47\n",
            "board recommendation 4.47\n",
            "lad brother 4.46\n",
            "observation architecture 4.38\n",
            "coast hill 4.38\n",
            "deployment departure 4.25\n",
            "benchmark index 4.25\n",
            "attempt peace 4.25\n",
            "consumer confidence 4.13\n",
            "start year 4.06\n",
            "focus life 4.06\n",
            "development issue 3.97\n",
            "theater history 3.91\n",
            "situation isolation 3.88\n",
            "profit warning 3.88\n",
            "media trading 3.88\n",
            "chance credibility 3.88\n",
            "precedent information 3.85\n",
            "architecture century 3.78\n",
            "population development 3.75\n",
            "stock live 3.73\n",
            "peace atmosphere 3.69\n",
            "morality marriage 3.69\n",
            "minority peace 3.69\n",
            "atmosphere landscape 3.69\n",
            "report gain 3.63\n",
            "music project 3.63\n",
            "seven series 3.56\n",
            "experience music 3.47\n",
            "school center 3.44\n",
            "five month 3.38\n",
            "announcement production 3.38\n",
            "morality importance 3.31\n",
            "money operation 3.31\n",
            "delay news 3.31\n",
            "governor interview 3.25\n",
            "practice institution 3.19\n",
            "century nation 3.16\n",
            "coast forest 3.15\n",
            "shore woodland 3.08\n",
            "drink car 3.04\n",
            "president medal 3.00\n",
            "prejudice recognition 3.00\n",
            "viewer serial 2.97\n",
            "peace insurance 2.94\n",
            "Mars water 2.94\n",
            "media gain 2.88\n",
            "precedent cognition 2.81\n",
            "announcement effort 2.75\n",
            "line insurance 2.69\n",
            "crane implement 2.69\n",
            "drink mother 2.65\n",
            "opera industry 2.63\n",
            "volunteer motto 2.56\n",
            "listing proximity 2.56\n",
            "precedent collection 2.50\n",
            "cup article 2.40\n",
            "sign recess 2.38\n",
            "problem airport 2.38\n",
            "reason hypertension 2.31\n",
            "direction combination 2.25\n",
            "Wednesday news 2.22\n",
            "glass magician 2.08\n",
            "cemetery woodland 2.08\n",
            "possibility girl 1.94\n",
            "cup substance 1.92\n",
            "forest graveyard 1.85\n",
            "stock egg 1.81\n",
            "month hotel 1.81\n",
            "energy secretary 1.81\n",
            "precedent group 1.77\n",
            "production hike 1.75\n",
            "stock phone 1.62\n",
            "holy sex 1.62\n",
            "stock CD 1.31\n",
            "drink ear 1.31\n",
            "delay racism 1.19\n",
            "stock life 0.92\n",
            "stock jaguar 0.92\n",
            "monk slave 0.92\n",
            "lad wizard 0.92\n",
            "sugar approach 0.88\n",
            "rooster voyage 0.62\n",
            "noon string 0.54\n",
            "chord smile 0.54\n",
            "professor cucumber 0.31\n",
            "king cabbage 0.23\n"
          ]
        }
      ]
    },
    {
      "cell_type": "code",
      "source": [
        "print(len(wordsim_parsed))"
      ],
      "metadata": {
        "id": "XB4PxejnDgSJ",
        "outputId": "bd45ecbb-c8a0-4100-8a3e-982ac7c486e2",
        "colab": {
          "base_uri": "https://localhost:8080/"
        }
      },
      "execution_count": 28,
      "outputs": [
        {
          "output_type": "stream",
          "name": "stdout",
          "text": [
            "203\n"
          ]
        }
      ]
    },
    {
      "cell_type": "code",
      "source": [
        "# wordnet api example \n",
        "word = \"boat\"\n",
        "syns = wordnet.synsets(word)\n",
        "\n",
        "\n",
        "for syn in syns:\n",
        "  print(\"\\nSynset name: \", syn.name())\n",
        "  print(\"Synset meaning: \", syn.definition())\n",
        "  print(\"Synset example: \", syn.examples())"
      ],
      "metadata": {
        "colab": {
          "base_uri": "https://localhost:8080/"
        },
        "id": "UBjaLVJmZTXg",
        "outputId": "d58a224e-e982-4391-bcdb-8532c4640a30"
      },
      "execution_count": 7,
      "outputs": [
        {
          "output_type": "stream",
          "name": "stdout",
          "text": [
            "\n",
            "Synset name:  boat.n.01\n",
            "Synset meaning:  a small vessel for travel on water\n",
            "Synset example:  []\n",
            "\n",
            "Synset name:  gravy_boat.n.01\n",
            "Synset meaning:  a dish (often boat-shaped) for serving gravy or sauce\n",
            "Synset example:  []\n",
            "\n",
            "Synset name:  boat.v.01\n",
            "Synset meaning:  ride in a boat on water\n",
            "Synset example:  []\n"
          ]
        }
      ]
    },
    {
      "cell_type": "code",
      "source": [
        "wv_model = api.load(\"glove-wiki-gigaword-50\")"
      ],
      "metadata": {
        "colab": {
          "base_uri": "https://localhost:8080/"
        },
        "id": "h5-fE8jEXSjz",
        "outputId": "f5bb9aba-6b77-439b-cd32-a97598b4f8f1"
      },
      "execution_count": 8,
      "outputs": [
        {
          "output_type": "stream",
          "name": "stdout",
          "text": [
            "[==================================================] 100.0% 66.0/66.0MB downloaded\n"
          ]
        }
      ]
    },
    {
      "cell_type": "code",
      "source": [
        "# compute cosine similarity between 2 words\n",
        "wv_model.similarity('cat', 'dog')"
      ],
      "metadata": {
        "id": "MIrSGQUNV3ku",
        "colab": {
          "base_uri": "https://localhost:8080/"
        },
        "outputId": "048f4900-5b87-4dc8-812d-799c2d71044d"
      },
      "execution_count": 9,
      "outputs": [
        {
          "output_type": "execute_result",
          "data": {
            "text/plain": [
              "0.9218005"
            ]
          },
          "metadata": {},
          "execution_count": 9
        }
      ]
    },
    {
      "cell_type": "code",
      "source": [
        "#Find the Wordnet Find Similarity\n",
        "from nltk.corpus import wordnet as wn\n",
        "jaguar = wn.synset('jaguar.n.01')\n",
        "cat = wn.synset('cat.n.01')\n",
        "car = wn.synset('car.n.01')\n",
        "king = wn.synset('king.n.01')\n",
        "queen = wn.synset('queen.n.01')\n",
        "rook = wn.synset('rook.n.01')\n",
        "tiger = wn.synset('tiger.n.01')\n",
        "mammal = wn.synset('mammal.n.01')"
      ],
      "metadata": {
        "id": "O9I-4VE9FgUZ"
      },
      "execution_count": 10,
      "outputs": []
    },
    {
      "cell_type": "code",
      "source": [
        "#print out the wanted Wordnet path similarites:\n",
        "print(f\"The path similarity between jaguar and cat is: {jaguar.path_similarity(cat)}\")\n",
        "print(f\"The path similarity between jaguar and car is: {jaguar.path_similarity(car)}\")\n",
        "print(f\"The path similarity between king and queen is: {king.path_similarity(queen)}\")\n",
        "print(f\"The path similarity between king and rook is: {king.path_similarity(rook)}\")\n",
        "print(f\"The path similarity between tiger and mammal is: {tiger.path_similarity(mammal)}\")\n",
        "print(f\"The path similarity between tiger and cat is: {tiger.path_similarity(cat)}\")"
      ],
      "metadata": {
        "id": "gJJTX1iJj7f1",
        "outputId": "d784f8dd-f472-47b0-9774-3938c449bdfc",
        "colab": {
          "base_uri": "https://localhost:8080/"
        }
      },
      "execution_count": 11,
      "outputs": [
        {
          "output_type": "stream",
          "name": "stdout",
          "text": [
            "The path similarity between jaguar and cat is: 0.25\n",
            "The path similarity between jaguar and car is: 0.05263157894736842\n",
            "The path similarity between king and queen is: 0.1\n",
            "The path similarity between king and rook is: 0.07142857142857142\n",
            "The path similarity between tiger and mammal is: 0.14285714285714285\n",
            "The path similarity between tiger and cat is: 0.09090909090909091\n"
          ]
        }
      ]
    },
    {
      "cell_type": "code",
      "source": [
        "#print out the wanted Word embedding cosine similarites:\n",
        "print(f\"The cosine similarity between jaguar and cat is: {wv_model.similarity('jaguar', 'cat')}\")\n",
        "print(f\"The cosine similarity between jaguar and car is: {wv_model.similarity('jaguar', 'car')}\")\n",
        "print(f\"The cosine similarity between king and queen is: {wv_model.similarity('king', 'queen')}\")\n",
        "print(f\"The cosine similarity between king and rook is: {wv_model.similarity('king', 'rook')}\")\n",
        "print(f\"The cosine similarity between tiger and mammal is: {wv_model.similarity('tiger', 'mammal')}\")\n",
        "print(f\"The cosine similarity between tiger and cat is: {wv_model.similarity('tiger', 'cat')}\")"
      ],
      "metadata": {
        "id": "xjwOLHw8lmqw",
        "outputId": "369e0a13-223c-4cd4-bd78-7e271d322cda",
        "colab": {
          "base_uri": "https://localhost:8080/"
        }
      },
      "execution_count": 12,
      "outputs": [
        {
          "output_type": "stream",
          "name": "stdout",
          "text": [
            "The cosine similarity between jaguar and cat is: 0.372837096452713\n",
            "The cosine similarity between jaguar and car is: 0.47451338171958923\n",
            "The cosine similarity between king and queen is: 0.7839043140411377\n",
            "The cosine similarity between king and rook is: 0.25443321466445923\n",
            "The cosine similarity between tiger and mammal is: 0.34078022837638855\n",
            "The cosine similarity between tiger and cat is: 0.6150732636451721\n"
          ]
        }
      ]
    },
    {
      "cell_type": "code",
      "source": [
        "from nltk.corpus.reader.wordnet import path_similarity\n",
        "#Create a function that returns our average path-similarity:\n",
        "my_path_similarity_ = []\n",
        "#loop through our sheet of words\n",
        "for word1, word2, sim in wordsim_parsed:\n",
        "  #look up our two words in wordsim_parsed\n",
        "  synset1 = wn.synsets(word1)[0]\n",
        "  synset2 = wn.synsets(word2)[0]\n",
        "  #get the similarity of our word pair\n",
        "  final_similarity = synset1.path_similarity(synset2)\n",
        "  #add our path similarites for each word pairs to our list\n",
        "  my_path_similarity_.append(final_similarity)"
      ],
      "metadata": {
        "id": "w_d5tx2HKoEW"
      },
      "execution_count": 32,
      "outputs": []
    },
    {
      "cell_type": "code",
      "source": [
        "#Create a function that returns our average cosine-similarity:\n",
        "#initialize our cosine_similarity dictionary\n",
        "my_cosine_similarity = []\n",
        "#length: an integer that represents the num of words of our dictionary \n",
        "length = 0\n",
        "for word1, word2, sim in wordsim_parsed:\n",
        "  if word1 in wv_model.key_to_index and word2 in wv_model.key_to_index:\n",
        "    cosine_score = wv_model.similarity(word1, word2)\n",
        "    my_cosine_similarity.append(cosine_score)\n",
        "    length += 1\n",
        "  else:\n",
        "    my_cosine_similarity.append(0)"
      ],
      "metadata": {
        "id": "tLJvM_jtHFTd"
      },
      "execution_count": 31,
      "outputs": []
    },
    {
      "cell_type": "code",
      "source": [
        "#create a function that generates all our similarity values in wordsim_parsed 204\n",
        "sim_values = []\n",
        "for word1, word2, sim in wordsim_parsed:\n",
        "  sim_values.append(float(sim))"
      ],
      "metadata": {
        "id": "2fQRYwL5M--c"
      },
      "execution_count": 41,
      "outputs": []
    },
    {
      "cell_type": "code",
      "source": [
        "#get our spearman correlation coeff for path-similarity & cosine similarity\n",
        "from scipy.stats import spearmanr\n",
        "print(\"\\nSpearman correlation coefficient:\")\n",
        "print(f\"WordNet Path Similarity: {round(((spearmanr(my_path_similarity_, sim_values)).correlation), 4)}\")\n",
        "print(f\"Word embedding cosine similarity: {round(((spearmanr(my_cosine_similarity, sim_values)).correlation), 4)}\")"
      ],
      "metadata": {
        "id": "zNadWJsuNdMD",
        "outputId": "3e3a875b-58cc-4907-a882-073060c60006",
        "colab": {
          "base_uri": "https://localhost:8080/"
        }
      },
      "execution_count": 42,
      "outputs": [
        {
          "output_type": "stream",
          "name": "stdout",
          "text": [
            "\n",
            "Spearman correlation coefficient:\n",
            "WordNet Path Similarity: 0.4511\n",
            "Word embedding cosine similarity: 0.5517\n"
          ]
        }
      ]
    },
    {
      "cell_type": "code",
      "source": [
        "#Coverage: Gives us our percent of words found for each method\n",
        "SizeOf_wordsim_parsed = len(wordsim_parsed)\n",
        "SizeOf_pathSimilarity = len(my_path_similarity_)\n",
        "SizeOf_CosineSimilarity = length\n",
        "print(f\"Coverage of Wordnet Path Similarity: {(SizeOf_pathSimilarity/SizeOf_wordsim_parsed)*100}%\")\n",
        "print(f\"Coverage of Word embedding cosine Similarity: {(length/SizeOf_wordsim_parsed)*100}%\")"
      ],
      "metadata": {
        "id": "UfLAe61IOWAV",
        "outputId": "f66c8a11-b0de-462d-8d31-60472354a54e",
        "colab": {
          "base_uri": "https://localhost:8080/"
        }
      },
      "execution_count": 43,
      "outputs": [
        {
          "output_type": "stream",
          "name": "stdout",
          "text": [
            "Coverage of Wordnet Path Similarity: 100.0%\n",
            "Coverage of Word embedding cosine Similarity: 96.55172413793103%\n"
          ]
        }
      ]
    }
  ]
}